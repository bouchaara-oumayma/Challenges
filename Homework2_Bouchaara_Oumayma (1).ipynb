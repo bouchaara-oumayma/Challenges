{
 "cells": [
  {
   "cell_type": "markdown",
   "metadata": {},
   "source": [
    "### 1-un programme sans optimisation "
   ]
  },
  {
   "cell_type": "markdown",
   "metadata": {},
   "source": [
    "- Génération des listes Ids.in et Details.in"
   ]
  },
  {
   "cell_type": "code",
   "execution_count": null,
   "metadata": {},
   "outputs": [],
   "source": [
    "#Ids\n",
    "Ids=[]\n",
    "n_Ids=int(input('entrez le nombre de ids'))\n",
    "Ids.append(n_Ids)\n",
    "for i in range(Ids):\n",
    "    Ids.append(input('entrez un CIN'))\n",
    "#Details\n",
    "Details=[]\n",
    "n_details=int(input('entrez le nombre de details'))\n",
    "Details.append(n_details)\n",
    "for i in range(n_details):\n",
    "    Details.append(input('entrez la ligne '+(i+1)))\n"
   ]
  },
  {
   "cell_type": "markdown",
   "metadata": {},
   "source": [
    "- Afficher selon l'ordre du contenu du fichier Ids.in, tous le détails qui correspond dans le fichier Details.in"
   ]
  },
  {
   "cell_type": "code",
   "execution_count": 106,
   "metadata": {},
   "outputs": [],
   "source": [
    "for id in Ids[1:]:\n",
    "    for detail in Details[1:]:\n",
    "        if details[0].split(',')==id:\n",
    "            print(detail)"
   ]
  },
  {
   "cell_type": "markdown",
   "metadata": {},
   "source": [
    "###### la complexite temporelle est: O(len(Ids)*len(Details))"
   ]
  },
  {
   "cell_type": "markdown",
   "metadata": {},
   "source": [
    "### 2-un programme optimisé "
   ]
  },
  {
   "cell_type": "code",
   "execution_count": 107,
   "metadata": {},
   "outputs": [],
   "source": [
    "for detail in Details[1:]:\n",
    "    if detail[0] in Ids:\n",
    "        print(detail)"
   ]
  },
  {
   "cell_type": "markdown",
   "metadata": {},
   "source": [
    "###### la complexite temporelle est: O(len(Details))"
   ]
  },
  {
   "cell_type": "markdown",
   "metadata": {},
   "source": [
    "### 3-un générateur des cas des test"
   ]
  },
  {
   "cell_type": "code",
   "execution_count": 96,
   "metadata": {},
   "outputs": [],
   "source": [
    "import random\n",
    "import string"
   ]
  },
  {
   "cell_type": "markdown",
   "metadata": {},
   "source": [
    "on prend l'exemple de Ids=5,Details=18"
   ]
  },
  {
   "cell_type": "code",
   "execution_count": 113,
   "metadata": {},
   "outputs": [],
   "source": [
    "Details=[]\n",
    "Details.append(18)\n",
    "for i in range(18):\n",
    "    ran1 = ''.join(random.choices(string.ascii_uppercase + string.digits, k = S)) \n",
    "    ran2= ''.join(random.choices(string.ascii_uppercase , k = S)) \n",
    "    ran3= ''.join(random.choices(string.ascii_uppercase , k = S)) \n",
    "    ran4= ''.join(random.choices(string.ascii_uppercase , k = S)) \n",
    "    Details.append([ran1,ran2,ran3,ran4])\n"
   ]
  },
  {
   "cell_type": "code",
   "execution_count": 114,
   "metadata": {},
   "outputs": [],
   "source": [
    "ids_details=[]\n",
    "for detail in Details[1:]:\n",
    "    ids_details.append(detail[0])"
   ]
  },
  {
   "cell_type": "code",
   "execution_count": 115,
   "metadata": {},
   "outputs": [],
   "source": [
    "Ids=[]\n",
    "Ids.append(5)\n",
    "i=0\n",
    "while i<5 and (random.choice(ids_details) not in Ids):\n",
    "        Ids.append(random.choice(ids_details))\n",
    "        i=i+1"
   ]
  },
  {
   "cell_type": "code",
   "execution_count": 116,
   "metadata": {},
   "outputs": [
    {
     "data": {
      "text/plain": [
       "[5, '4FUL7G0XVS', 'D9KJI0NRWA', 'SUGJBJHY3N', '6CPCM1JW1M', 'IPA6O9GC8W']"
      ]
     },
     "execution_count": 116,
     "metadata": {},
     "output_type": "execute_result"
    }
   ],
   "source": [
    "Ids"
   ]
  },
  {
   "cell_type": "code",
   "execution_count": 117,
   "metadata": {},
   "outputs": [
    {
     "data": {
      "text/plain": [
       "[18,\n",
       " ['2EPLWUF2O4', 'RIUFWGLPVG', 'NZHQSYJLHW', 'LZIQYTVNZG'],\n",
       " ['GW8IA259LV', 'NTQDHYXLNV', 'LNYMBZEDXF', 'ZUBTRTCIMB'],\n",
       " ['IPA6O9GC8W', 'VPDDDYIMYN', 'CTBXVOSINF', 'KDRSYKBTUV'],\n",
       " ['XGL82KWIQQ', 'KSGQSKQPFP', 'RLOVCCXIKF', 'UMOWGALNJC'],\n",
       " ['QC51DSPDWC', 'FQZASVIIKI', 'LPOLFRHHTL', 'WJMJFRHVUK'],\n",
       " ['SUGJBJHY3N', 'FUVNFVDBTJ', 'ZONFCCEQZN', 'BWFGPNOQAE'],\n",
       " ['4FUL7G0XVS', 'JPJDIHBDSR', 'CCEIZZNBQN', 'WYQEQGQZGS'],\n",
       " ['5GNV5323VG', 'GLWTKDXCML', 'FYCXLNBHJV', 'CBGUYDOQPR'],\n",
       " ['6CPCM1JW1M', 'PIOZGSTHTP', 'CGHLJGCXLJ', 'AMIHIHLFZK'],\n",
       " ['IENGW5KBC8', 'EFYDYLNYBV', 'OLVWSYASFL', 'GESSUXCQHZ'],\n",
       " ['D9KJI0NRWA', 'YWPNEXJBYN', 'NGYDZPEMMZ', 'OHQIMTXRLX'],\n",
       " ['UBCJZXJRQ7', 'GKTGMBUJWE', 'FRAAOXJHBU', 'XQEYIRBJJH'],\n",
       " ['E5QLX80MFO', 'DYJDLQETHS', 'LFBLBTZDTO', 'KNUSEEUYVO'],\n",
       " ['UVJIZ9BG6W', 'RVBIPSYBBS', 'SAGNUDUJGU', 'NYGQDJISXI'],\n",
       " ['6D0YBW0833', 'LBHNQLGJXN', 'QUKPDZPITL', 'VBGTMEIKLI'],\n",
       " ['AUWYBLY490', 'YPPFQNSSZH', 'XSFJUGPCSY', 'VSWSTKWMHZ'],\n",
       " ['HMFNM37JI2', 'SFPLLTHPEH', 'OBWSPNUUPO', 'PVCFKMZJUY'],\n",
       " ['EC0PQW16PY', 'SYXLPMYZAT', 'EADWCFRXTC', 'SWFPCMFWGF']]"
      ]
     },
     "execution_count": 117,
     "metadata": {},
     "output_type": "execute_result"
    }
   ],
   "source": [
    "Details"
   ]
  },
  {
   "cell_type": "code",
   "execution_count": null,
   "metadata": {},
   "outputs": [],
   "source": []
  }
 ],
 "metadata": {
  "kernelspec": {
   "display_name": "Python 3",
   "language": "python",
   "name": "python3"
  },
  "language_info": {
   "codemirror_mode": {
    "name": "ipython",
    "version": 3
   },
   "file_extension": ".py",
   "mimetype": "text/x-python",
   "name": "python",
   "nbconvert_exporter": "python",
   "pygments_lexer": "ipython3",
   "version": "3.8.5"
  }
 },
 "nbformat": 4,
 "nbformat_minor": 4
}
